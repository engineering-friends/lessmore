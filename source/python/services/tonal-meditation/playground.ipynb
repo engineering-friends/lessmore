{
 "cells": [
  {
   "cell_type": "code",
   "execution_count": null,
   "outputs": [],
   "source": [
    "from functools import reduce\n",
    "\n",
    "import numpy as np\n",
    "from pydub import AudioSegment\n",
    "import math\n",
    "from typing import List, Union, Optional\n",
    "import random"
   ],
   "metadata": {
    "collapsed": false
   }
  },
  {
   "cell_type": "code",
   "execution_count": null,
   "outputs": [],
   "source": [
    "chopin_nocturne_c_sharp = AudioSegment.from_file(\"chopin_nocturne_c_sharp.mp3\")"
   ],
   "metadata": {
    "collapsed": false
   }
  },
  {
   "cell_type": "code",
   "execution_count": null,
   "outputs": [],
   "source": [],
   "metadata": {
    "collapsed": false
   }
  },
  {
   "cell_type": "code",
   "execution_count": null,
   "outputs": [],
   "source": [
    "chopin_nocturne_c_sharp.reverse().export('chopin_nocturne_c_sharp_reversed.mp3', format='mp3')"
   ],
   "metadata": {
    "collapsed": false
   }
  },
  {
   "cell_type": "markdown",
   "source": [],
   "metadata": {
    "collapsed": false
   }
  },
  {
   "cell_type": "code",
   "execution_count": null,
   "outputs": [],
   "source": [
    "chopin_nocturne_c_sharp.speedup(playback_speed=5, chunk_size=10, crossfade=1000).export(\"chopin_nocturne_c_sharp_speedup_5_10_1000_african.mp3\", format=\"mp3\")"
   ],
   "metadata": {
    "collapsed": false
   }
  },
  {
   "cell_type": "code",
   "execution_count": null,
   "outputs": [],
   "source": [
    "chopin_nocturne_c_sharp.speedup(playback_speed=2, chunk_size=10, crossfade=1000).export('chopin_nocturne_c_sharp_2_10_1000_ghost.mp3', format='mp3')"
   ],
   "metadata": {
    "collapsed": false
   }
  },
  {
   "cell_type": "markdown",
   "source": [],
   "metadata": {
    "collapsed": false
   }
  },
  {
   "cell_type": "code",
   "execution_count": null,
   "outputs": [],
   "source": [
    "def mix_tracks(tracks: List[Union[str, AudioSegment]], weights: Optional[List[float]] = None) -> AudioSegment:\n",
    "    # - Init weights\n",
    "\n",
    "    weights = weights or [1] * len(tracks)\n",
    "\n",
    "    # - Validate inputs\n",
    "\n",
    "    assert len(tracks) == len(weights), \"Must have same number of tracks and weights\"\n",
    "    assert all(weight >= 0 for weight in weights), \"Weights must be positive\"\n",
    "\n",
    "    # - Normalize weights\n",
    "\n",
    "    weights = [weight / sum(weights) for weight in weights]\n",
    "\n",
    "    # - Cast strings to AudioSegments\n",
    "\n",
    "    tracks = [AudioSegment.from_file(track) if isinstance(track, str) else track for track in tracks]\n",
    "\n",
    "    # - Normalize to the same length\n",
    "\n",
    "    min_len = min([len(track) for track in tracks])\n",
    "\n",
    "    tracks = [track[:min_len] for track in tracks]\n",
    "\n",
    "        # - Adjust volumes\n",
    "    # Convert linear weight to dB\n",
    "    def linear_to_db(weight):\n",
    "        return 20 * math.log10(weight)\n",
    "\n",
    "    tracks = [track + linear_to_db(weight) for track, weight in zip(tracks, weights)]\n",
    "\n",
    "    return reduce(lambda x, y: x.overlay(y), tracks)"
   ],
   "metadata": {
    "collapsed": false
   }
  },
  {
   "cell_type": "code",
   "execution_count": null,
   "outputs": [],
   "source": [
    "def mix_pretty_song(prettiness:float) -> AudioSegment:\n",
    "    assert -1 <= prettiness <= 1, \"Prettiness must be between -1 and 1\"\n",
    "\n",
    "    # - Scale 1 a bit to the edges\n",
    "\n",
    "    prettiness = np.sign(prettiness) * (abs(prettiness) ** 0.5)\n",
    "\n",
    "    # - Mix song\n",
    "\n",
    "    if prettiness == -1:\n",
    "        return AudioSegment.from_file('metal_mix_reversed.mp3')\n",
    "    elif prettiness == 1:\n",
    "        return AudioSegment.from_file('chopin_complete.mp3')\n",
    "    elif prettiness == 0:\n",
    "        return AudioSegment.from_file('white_noise_1_hour.mp3')\n",
    "    else:\n",
    "        return mix_tracks(tracks=['white_noise_1_hour.mp3', 'chopin_complete.mp3' if prettiness > 0 else 'metal_mix_reversed.mp3'], weights=[1 - abs(prettiness), abs(prettiness)])"
   ],
   "metadata": {
    "collapsed": false
   }
  },
  {
   "cell_type": "markdown",
   "source": [],
   "metadata": {
    "collapsed": false
   }
  },
  {
   "cell_type": "code",
   "execution_count": null,
   "outputs": [],
   "source": [
    "import numpy as np\n",
    "import tqdm\n",
    "songs_by_prettiness = {prettiness: mix_pretty_song(prettiness) for prettiness in tqdm.tqdm(np.linspace(-1, 1, 41))}"
   ],
   "metadata": {
    "collapsed": false
   }
  },
  {
   "cell_type": "code",
   "execution_count": null,
   "outputs": [],
   "source": [
    "meditation = AudioSegment.empty()\n",
    "while len(meditation) < 60 * 60 * 1000:\n",
    "    # - Get random prettiness\n",
    "\n",
    "    prettiness = random.choice(np.linspace(-1, 1, 41))\n",
    "\n",
    "    # - Get random period from 1 second to one minute\n",
    "\n",
    "    period = np.random.uniform(1, 60) * 1000\n",
    "\n",
    "    # - Get song\n",
    "\n",
    "    song = songs_by_prettiness[prettiness]\n",
    "\n",
    "    # - Get random start time\n",
    "\n",
    "    start_time = np.random.uniform(0, len(song) - period)\n",
    "\n",
    "    # - Add to meditation\n",
    "\n",
    "    meditation = meditation.append(song[start_time:start_time + period], crossfade=min(len(meditation), 1000))\n",
    "meditation.export(\"meditation.mp3\", format=\"mp3\")"
   ],
   "metadata": {
    "collapsed": false
   }
  },
  {
   "cell_type": "code",
   "execution_count": null,
   "outputs": [],
   "source": [
    "mix_pretty_song(0)"
   ],
   "metadata": {
    "collapsed": false
   }
  },
  {
   "cell_type": "code",
   "execution_count": null,
   "outputs": [],
   "source": [],
   "metadata": {
    "collapsed": false
   }
  },
  {
   "cell_type": "code",
   "execution_count": null,
   "outputs": [],
   "source": [
    "mix_pretty_song(0.5)"
   ],
   "metadata": {
    "collapsed": false
   }
  },
  {
   "cell_type": "markdown",
   "source": [],
   "metadata": {
    "collapsed": false
   }
  },
  {
   "cell_type": "code",
   "execution_count": null,
   "outputs": [],
   "source": [
    "AudioSegment.from_file(\"metal_mix.mp3\").reverse().export(\"metal_mix_reversed.mp3\", format=\"mp3\")"
   ],
   "metadata": {
    "collapsed": false
   }
  },
  {
   "cell_type": "code",
   "execution_count": null,
   "outputs": [],
   "source": [
    "AudioSegment.from_file(\"meditation.mp3\")"
   ],
   "metadata": {
    "collapsed": false
   }
  },
  {
   "cell_type": "code",
   "execution_count": null,
   "outputs": [],
   "source": [],
   "metadata": {
    "collapsed": false
   }
  },
  {
   "cell_type": "code",
   "execution_count": null,
   "outputs": [],
   "source": [
    "len('💼')"
   ],
   "metadata": {
    "collapsed": false
   }
  },
  {
   "cell_type": "code",
   "execution_count": null,
   "outputs": [],
   "source": [
    "# import grapheme\n",
    "\n",
    "string = \"e\\u0301\"  # 'e' with combining acute accent\n",
    "correct_length = grapheme.length(string)  # This would return 1"
   ],
   "metadata": {
    "collapsed": false
   }
  },
  {
   "cell_type": "code",
   "execution_count": null,
   "outputs": [],
   "source": [
    "len(\"e\\u03a1\")"
   ],
   "metadata": {
    "collapsed": false
   }
  },
  {
   "cell_type": "code",
   "execution_count": null,
   "outputs": [],
   "source": [],
   "metadata": {
    "collapsed": false
   }
  }
 ],
 "metadata": {
  "kernelspec": {
   "name": "lessmore-python310",
   "language": "python",
   "display_name": "lessmore-python310"
  },
  "language_info": {
   "codemirror_mode": {
    "name": "ipython",
    "version": 2
   },
   "file_extension": ".py",
   "mimetype": "text/x-python",
   "name": "python",
   "nbconvert_exporter": "python",
   "pygments_lexer": "ipython2",
   "version": "2.7.6"
  }
 },
 "nbformat": 4,
 "nbformat_minor": 0
}
