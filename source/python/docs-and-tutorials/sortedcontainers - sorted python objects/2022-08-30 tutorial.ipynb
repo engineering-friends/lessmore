{
 "cells": [
  {
   "cell_type": "markdown",
   "id": "ddeee488",
   "metadata": {
    "pycharm": {
     "name": "#%% md\n"
    }
   },
   "source": [
    "# About\n",
    "```This tutorial was made for you by Mark Lidenberg @marklidenberg, 2022.08.30```"
   ]
  },
  {
   "cell_type": "markdown",
   "source": [
    "# SortedContainers - sorted python objects. Written in pure python, fast as C-extensions\n",
    "\n",
    "- https://github.com/grantjenks/python-sortedcontainers\n",
    "\n",
    "You can run this notebook out-of-the-box\n",
    "\n",
    "Сортированные списки полезны тем, что по ним можно быстро делать поиск (за log(N), бинарный поиск)"
   ],
   "metadata": {
    "collapsed": false,
    "pycharm": {
     "name": "#%% md\n"
    }
   }
  },
  {
   "cell_type": "code",
   "execution_count": null,
   "outputs": [],
   "source": [
    "# !pip install sortedcontainers"
   ],
   "metadata": {
    "collapsed": false,
    "pycharm": {
     "name": "#%%\n"
    }
   }
  },
  {
   "cell_type": "markdown",
   "source": [],
   "metadata": {
    "collapsed": false
   }
  },
  {
   "cell_type": "code",
   "execution_count": null,
   "outputs": [],
   "source": [
    "from sortedcontainers import SortedList, SortedDict, SortedSet\n",
    "import pandas as pd"
   ],
   "metadata": {
    "collapsed": false,
    "pycharm": {
     "name": "#%%\n"
    }
   }
  },
  {
   "cell_type": "markdown",
   "source": [
    "# SortedList\n",
    "- Sorted list is a sorted mutable sequence.\n",
    "- Sorted list values are maintained in sorted order.\n",
    "- Sorted list values must be comparable. The total ordering of values must not change while they are stored in the sorted list.\n",
    "\n"
   ],
   "metadata": {
    "collapsed": false,
    "pycharm": {
     "name": "#%% md\n"
    }
   }
  },
  {
   "cell_type": "markdown",
   "source": [
    "## Init and add values"
   ],
   "metadata": {
    "collapsed": false,
    "pycharm": {
     "name": "#%% md\n"
    }
   }
  },
  {
   "cell_type": "code",
   "execution_count": null,
   "outputs": [],
   "source": [
    "sorted_list = SortedList([3, 1, 2, 5, 4])\n",
    "sorted_list, list(sorted_list)"
   ],
   "metadata": {
    "collapsed": false,
    "pycharm": {
     "name": "#%%\n"
    }
   }
  },
  {
   "cell_type": "code",
   "execution_count": null,
   "outputs": [],
   "source": [
    "sorted_list.add(3.5) # returns None\n",
    "sorted_list"
   ],
   "metadata": {
    "collapsed": false,
    "pycharm": {
     "name": "#%%\n"
    }
   }
  },
  {
   "cell_type": "code",
   "execution_count": null,
   "outputs": [],
   "source": [
    "sorted_list.update([1.5, 2.5]) # returns None\n",
    "sorted_list"
   ],
   "metadata": {
    "collapsed": false,
    "pycharm": {
     "name": "#%%\n"
    }
   }
  },
  {
   "cell_type": "markdown",
   "source": [
    "## Remove elements"
   ],
   "metadata": {
    "collapsed": false,
    "pycharm": {
     "name": "#%% md\n"
    }
   }
  },
  {
   "cell_type": "code",
   "execution_count": null,
   "outputs": [],
   "source": [
    "# remove element safely\n",
    "sorted_list.discard(2.5) # returns None\n",
    "sorted_list.discard(-1) # returns None\n",
    "sorted_list"
   ],
   "metadata": {
    "collapsed": false,
    "pycharm": {
     "name": "#%%\n"
    }
   }
  },
  {
   "cell_type": "code",
   "execution_count": null,
   "outputs": [],
   "source": [
    "# remove element unsafely\n",
    "sorted_list.remove(1.5) # returns None\n",
    "try:\n",
    "    sorted_list.remove(-1) # Will raise ValueError, since -1 is not in list\n",
    "except Exception as e:\n",
    "    assert type(e) == ValueError\n",
    "sorted_list"
   ],
   "metadata": {
    "collapsed": false,
    "pycharm": {
     "name": "#%%\n"
    }
   }
  },
  {
   "cell_type": "code",
   "execution_count": null,
   "outputs": [],
   "source": [
    "# remove last element\n",
    "sorted_list.pop() # returns last element\n",
    "sorted_list.pop(index=2) # == del sorted_list[2]\n",
    "sorted_list"
   ],
   "metadata": {
    "collapsed": false,
    "pycharm": {
     "name": "#%%\n"
    }
   }
  },
  {
   "cell_type": "code",
   "execution_count": null,
   "outputs": [],
   "source": [
    "sorted_list.clear() # returns None\n",
    "sorted_list"
   ],
   "metadata": {
    "collapsed": false,
    "pycharm": {
     "name": "#%%\n"
    }
   }
  },
  {
   "cell_type": "markdown",
   "source": [
    "## Fast lookups"
   ],
   "metadata": {
    "collapsed": false,
    "pycharm": {
     "name": "#%% md\n"
    }
   }
  },
  {
   "cell_type": "code",
   "execution_count": null,
   "outputs": [],
   "source": [
    "sorted_list = SortedList('abbcccddddeeeee')"
   ],
   "metadata": {
    "collapsed": false,
    "pycharm": {
     "name": "#%%\n"
    }
   }
  },
  {
   "cell_type": "code",
   "execution_count": null,
   "outputs": [],
   "source": [
    "assert 'f' not in sorted_list # log(N)\n",
    "assert sorted_list.count('e') == 5\n",
    "assert sorted_list.index('c') == 3"
   ],
   "metadata": {
    "collapsed": false,
    "pycharm": {
     "name": "#%%\n"
    }
   }
  },
  {
   "cell_type": "code",
   "execution_count": null,
   "outputs": [],
   "source": [
    "sorted_list[3], sorted_list[6:10]"
   ],
   "metadata": {
    "collapsed": false,
    "pycharm": {
     "name": "#%%\n"
    }
   }
  },
  {
   "cell_type": "code",
   "execution_count": null,
   "outputs": [],
   "source": [
    "sorted_list.bisect_left('d'), sorted_list.bisect_right('d')"
   ],
   "metadata": {
    "collapsed": false,
    "pycharm": {
     "name": "#%%\n"
    }
   }
  },
  {
   "cell_type": "code",
   "execution_count": null,
   "outputs": [],
   "source": [
    "sorted_list = SortedList([10, 11, 11, 11, 12])\n",
    "dataframe_values = []\n",
    "for search_value in [-100, 10, 10.5, 11, 12, 100]:\n",
    "    dataframe_values.append([search_value, \n",
    "                             sorted_list.bisect_left(search_value), \n",
    "                             sorted_list.bisect_right(search_value)])\n",
    "pd.DataFrame(dataframe_values, \n",
    "             columns=['search_value', \n",
    "                      'bisect_left: leftmost place to insert', \n",
    "                      'bisect_right: rightmost place to insert'])"
   ],
   "metadata": {
    "collapsed": false,
    "pycharm": {
     "name": "#%%\n"
    }
   }
  },
  {
   "cell_type": "code",
   "execution_count": null,
   "outputs": [],
   "source": [
    "sorted_list = SortedList('acegi')"
   ],
   "metadata": {
    "collapsed": false,
    "pycharm": {
     "name": "#%%\n"
    }
   }
  },
  {
   "cell_type": "code",
   "execution_count": null,
   "outputs": [],
   "source": [
    "list(sorted_list.irange('b', 'h')) # from b to h"
   ],
   "metadata": {
    "collapsed": false,
    "pycharm": {
     "name": "#%%\n"
    }
   }
  },
  {
   "cell_type": "markdown",
   "id": "8a7b6a80",
   "metadata": {
    "pycharm": {
     "name": "#%% md\n"
    }
   },
   "source": [
    "## Operations"
   ]
  },
  {
   "cell_type": "code",
   "execution_count": 20,
   "id": "08cf8b50",
   "metadata": {
    "pycharm": {
     "name": "#%%\n"
    }
   },
   "outputs": [],
   "source": [
    "sorted_list = SortedList('abc')"
   ]
  },
  {
   "cell_type": "code",
   "execution_count": 21,
   "id": "288eafd0",
   "metadata": {
    "pycharm": {
     "name": "#%%\n"
    }
   },
   "outputs": [
    {
     "data": {
      "text/plain": [
       "SortedList(['a', 'a', 'b', 'b', 'c', 'c'])"
      ]
     },
     "execution_count": 21,
     "metadata": {},
     "output_type": "execute_result"
    }
   ],
   "source": [
    "sorted_list + sorted_list"
   ]
  },
  {
   "cell_type": "code",
   "execution_count": 22,
   "id": "7befd96b",
   "metadata": {
    "pycharm": {
     "name": "#%%\n"
    }
   },
   "outputs": [
    {
     "data": {
      "text/plain": [
       "SortedList(['a', 'a', 'a', 'b', 'b', 'b', 'c', 'c', 'c'])"
      ]
     },
     "execution_count": 22,
     "metadata": {},
     "output_type": "execute_result"
    }
   ],
   "source": [
    "sorted_list * 3"
   ]
  },
  {
   "cell_type": "code",
   "execution_count": 23,
   "id": "680e34f4",
   "metadata": {
    "pycharm": {
     "name": "#%%\n"
    }
   },
   "outputs": [
    {
     "data": {
      "text/plain": [
       "SortedList(['a', 'b', 'c', 'd', 'e'])"
      ]
     },
     "execution_count": 23,
     "metadata": {},
     "output_type": "execute_result"
    }
   ],
   "source": [
    "sorted_list += 'de'\n",
    "sorted_list"
   ]
  },
  {
   "cell_type": "code",
   "execution_count": 24,
   "id": "56d606a8",
   "metadata": {
    "pycharm": {
     "name": "#%%\n"
    }
   },
   "outputs": [
    {
     "data": {
      "text/plain": [
       "SortedList(['a', 'a', 'b', 'b', 'c', 'c', 'd', 'd', 'e', 'e'])"
      ]
     },
     "execution_count": 24,
     "metadata": {},
     "output_type": "execute_result"
    }
   ],
   "source": [
    "sorted_list *= 2\n",
    "sorted_list"
   ]
  },
  {
   "cell_type": "markdown",
   "id": "6e8cad08",
   "metadata": {
    "pycharm": {
     "name": "#%% md\n"
    }
   },
   "source": [
    "## What you CAN'T do"
   ]
  },
  {
   "cell_type": "code",
   "execution_count": 25,
   "id": "207af202",
   "metadata": {
    "pycharm": {
     "name": "#%%\n"
    }
   },
   "outputs": [],
   "source": [
    "sorted_list = SortedList('abcde')"
   ]
  },
  {
   "cell_type": "code",
   "execution_count": 26,
   "id": "9c2c3108",
   "metadata": {
    "pycharm": {
     "name": "#%%\n"
    }
   },
   "outputs": [
    {
     "name": "stdout",
     "output_type": "stream",
     "text": [
      "use ``del sl[index]`` and ``sl.add(value)`` instead\n"
     ]
    }
   ],
   "source": [
    "try:\n",
    "    sorted_list[2] = 'c'\n",
    "except Exception as e:\n",
    "    print(e)"
   ]
  },
  {
   "cell_type": "code",
   "execution_count": 27,
   "id": "d6dfefed",
   "metadata": {
    "pycharm": {
     "name": "#%%\n"
    }
   },
   "outputs": [
    {
     "name": "stdout",
     "output_type": "stream",
     "text": [
      "use ``reversed(sl)`` instead\n"
     ]
    }
   ],
   "source": [
    "try:\n",
    "    sorted_list.reverse()\n",
    "except Exception as e:\n",
    "    print(e)\n"
   ]
  },
  {
   "cell_type": "code",
   "execution_count": 28,
   "id": "70048f62",
   "metadata": {
    "pycharm": {
     "name": "#%%\n"
    }
   },
   "outputs": [
    {
     "name": "stdout",
     "output_type": "stream",
     "text": [
      "use ``sl.add(value)`` instead\n"
     ]
    }
   ],
   "source": [
    "try:\n",
    "    sorted_list.append('f')\n",
    "except Exception as e:\n",
    "    print(e)\n"
   ]
  },
  {
   "cell_type": "code",
   "execution_count": 29,
   "id": "36649c8d",
   "metadata": {
    "pycharm": {
     "name": "#%%\n"
    }
   },
   "outputs": [
    {
     "name": "stdout",
     "output_type": "stream",
     "text": [
      "use ``sl.update(values)`` instead\n"
     ]
    }
   ],
   "source": [
    "try:\n",
    "    sorted_list.extend(['f', 'g', 'h'])\n",
    "except Exception as e:\n",
    "    print(e)\n"
   ]
  },
  {
   "cell_type": "code",
   "execution_count": 30,
   "id": "0062e122",
   "metadata": {
    "pycharm": {
     "name": "#%%\n"
    }
   },
   "outputs": [
    {
     "name": "stdout",
     "output_type": "stream",
     "text": [
      "use ``sl.add(value)`` instead\n"
     ]
    }
   ],
   "source": [
    "try:\n",
    "    sorted_list.insert(5, 'f')\n",
    "except Exception as e:\n",
    "    print(e)\n"
   ]
  },
  {
   "cell_type": "markdown",
   "id": "b0cde6ce",
   "metadata": {
    "pycharm": {
     "name": "#%% md\n"
    }
   },
   "source": [
    "## Custom key"
   ]
  },
  {
   "cell_type": "code",
   "execution_count": 31,
   "id": "cfff5f75",
   "metadata": {
    "pycharm": {
     "name": "#%%\n"
    }
   },
   "outputs": [
    {
     "data": {
      "text/plain": [
       "SortedKeyList([5, 4, 3, 2, 1], key=<function <lambda> at 0x11c6bdc60>)"
      ]
     },
     "execution_count": 31,
     "metadata": {},
     "output_type": "execute_result"
    }
   ],
   "source": [
    "sorted_list = SortedList([3, 1, 2, 5, 4], key=lambda value: -value)\n",
    "sorted_list"
   ]
  },
  {
   "cell_type": "markdown",
   "id": "9ed44327",
   "metadata": {
    "pycharm": {
     "name": "#%% md\n"
    }
   },
   "source": [
    "# SortedDict\n",
    "- Sorted dict is a sorted mutable mapping.\n",
    "- Sorted dict keys are maintained in sorted order. The design of sorted dict is simple: sorted dict inherits from dict to store items and maintains a sorted list of keys.\n",
    "- Sorted dict keys must be hashable and comparable. The hash and total ordering of keys must not change while they are stored in the sorted dict."
   ]
  },
  {
   "cell_type": "markdown",
   "id": "746ef3a7",
   "metadata": {
    "pycharm": {
     "name": "#%% md\n"
    }
   },
   "source": [
    "## Works as dict as expected"
   ]
  },
  {
   "cell_type": "code",
   "execution_count": 32,
   "id": "5b282fd3",
   "metadata": {
    "pycharm": {
     "name": "#%%\n"
    }
   },
   "outputs": [],
   "source": [
    "sorted_dict = SortedDict()\n",
    "sorted_dict['e'] = 5\n",
    "sorted_dict['b'] = 2\n",
    "sorted_dict.update({'d': 4, 'c': 3})\n",
    "sorted_dict.setdefault('a', 1);"
   ]
  },
  {
   "cell_type": "code",
   "execution_count": 33,
   "id": "74fc732c",
   "metadata": {
    "pycharm": {
     "name": "#%%\n"
    }
   },
   "outputs": [],
   "source": [
    "d = {'alpha': 1, 'beta': 2}\n",
    "assert SortedDict([('alpha', 1), ('beta', 2)]) == d\n",
    "assert SortedDict({'alpha': 1, 'beta': 2}) == d\n",
    "assert SortedDict(alpha=1, beta=2) == d"
   ]
  },
  {
   "cell_type": "code",
   "execution_count": 34,
   "id": "b90a69d8",
   "metadata": {
    "pycharm": {
     "name": "#%%\n"
    }
   },
   "outputs": [
    {
     "data": {
      "text/plain": [
       "SortedDict({1: 'one', 2: 'two'})"
      ]
     },
     "execution_count": 34,
     "metadata": {},
     "output_type": "execute_result"
    }
   ],
   "source": [
    "sorted_dict= SortedDict({1: 'one', 2: 'two'})\n",
    "sorted_dict"
   ]
  },
  {
   "cell_type": "markdown",
   "id": "6ec527a2",
   "metadata": {
    "pycharm": {
     "name": "#%% md\n"
    }
   },
   "source": [
    "## Pop and peek"
   ]
  },
  {
   "cell_type": "code",
   "execution_count": 35,
   "id": "a6603509",
   "metadata": {
    "pycharm": {
     "name": "#%%\n"
    }
   },
   "outputs": [],
   "source": [
    "sorted_dict = SortedDict({1: 'one', 2: 'two', 3: 'three'})"
   ]
  },
  {
   "cell_type": "code",
   "execution_count": 36,
   "id": "ecb7d5c6",
   "metadata": {
    "pycharm": {
     "name": "#%%\n"
    }
   },
   "outputs": [
    {
     "data": {
      "text/plain": [
       "((3, 'three'), SortedDict({1: 'one', 2: 'two'}))"
      ]
     },
     "execution_count": 36,
     "metadata": {},
     "output_type": "execute_result"
    }
   ],
   "source": [
    "sorted_dict.popitem(index=-1), sorted_dict"
   ]
  },
  {
   "cell_type": "code",
   "execution_count": 37,
   "id": "fe8d0656",
   "metadata": {
    "pycharm": {
     "name": "#%%\n"
    }
   },
   "outputs": [
    {
     "data": {
      "text/plain": [
       "((2, 'two'), SortedDict({1: 'one', 2: 'two'}))"
      ]
     },
     "execution_count": 37,
     "metadata": {},
     "output_type": "execute_result"
    }
   ],
   "source": [
    "sorted_dict.peekitem(index=-1), sorted_dict"
   ]
  },
  {
   "cell_type": "markdown",
   "id": "53972688",
   "metadata": {
    "pycharm": {
     "name": "#%% md\n"
    }
   },
   "source": [
    "## Lookups"
   ]
  },
  {
   "cell_type": "code",
   "execution_count": 38,
   "id": "8cb41f19",
   "metadata": {
    "pycharm": {
     "name": "#%%\n"
    }
   },
   "outputs": [
    {
     "data": {
      "text/plain": [
       "SortedDict({'a': 'A', 'b': 'B', 'c': 'C', 'd': 'D', 'e': 'E'})"
      ]
     },
     "execution_count": 38,
     "metadata": {},
     "output_type": "execute_result"
    }
   ],
   "source": [
    "sorted_dict = SortedDict(zip('abcde', 'abcde'.upper()))\n",
    "sorted_dict"
   ]
  },
  {
   "cell_type": "code",
   "execution_count": 39,
   "id": "b6045793",
   "metadata": {
    "pycharm": {
     "name": "#%%\n"
    }
   },
   "outputs": [],
   "source": [
    "assert sorted_dict.bisect_right('b') == 2\n",
    "assert sorted_dict.index('a') == 0"
   ]
  },
  {
   "cell_type": "code",
   "execution_count": 40,
   "id": "8d61817d",
   "metadata": {
    "pycharm": {
     "name": "#%%\n"
    }
   },
   "outputs": [
    {
     "data": {
      "text/plain": [
       "['b', 'c', 'd', 'e']"
      ]
     },
     "execution_count": 40,
     "metadata": {},
     "output_type": "execute_result"
    }
   ],
   "source": [
    "list(sorted_dict.irange('b', 'z'))"
   ]
  },
  {
   "cell_type": "markdown",
   "id": "01d47e34",
   "metadata": {
    "pycharm": {
     "name": "#%% md\n"
    }
   },
   "source": [
    "## .keys(), .values(), .items() are special classes, but support indexing fluently"
   ]
  },
  {
   "cell_type": "code",
   "execution_count": 41,
   "id": "0acb3b31",
   "metadata": {
    "pycharm": {
     "name": "#%%\n"
    }
   },
   "outputs": [
    {
     "data": {
      "text/plain": [
       "(SortedKeysView(SortedDict({'a': 'A', 'b': 'B', 'c': 'C', 'd': 'D', 'e': 'E'})),\n",
       " SortedValuesView(SortedDict({'a': 'A', 'b': 'B', 'c': 'C', 'd': 'D', 'e': 'E'})),\n",
       " SortedItemsView(SortedDict({'a': 'A', 'b': 'B', 'c': 'C', 'd': 'D', 'e': 'E'})))"
      ]
     },
     "execution_count": 41,
     "metadata": {},
     "output_type": "execute_result"
    }
   ],
   "source": [
    "sorted_dict.keys(), sorted_dict.values(), sorted_dict.items()"
   ]
  },
  {
   "cell_type": "code",
   "execution_count": 42,
   "id": "c70e03d8",
   "metadata": {
    "pycharm": {
     "name": "#%%\n"
    }
   },
   "outputs": [
    {
     "data": {
      "text/plain": [
       "'c'"
      ]
     },
     "execution_count": 42,
     "metadata": {},
     "output_type": "execute_result"
    }
   ],
   "source": [
    "sorted_dict.keys()[2]"
   ]
  },
  {
   "cell_type": "markdown",
   "id": "3f4fc10e",
   "metadata": {
    "pycharm": {
     "name": "#%% md\n"
    }
   },
   "source": [
    "## Custom sorting key"
   ]
  },
  {
   "cell_type": "code",
   "execution_count": 43,
   "id": "8cb96bd5",
   "metadata": {
    "pycharm": {
     "name": "#%%\n"
    }
   },
   "outputs": [
    {
     "data": {
      "text/plain": [
       "SortedDict(<function <lambda> at 0x11c6bf9a0>, {3: 'c', 2: 'b', 1: 'a'})"
      ]
     },
     "execution_count": 43,
     "metadata": {},
     "output_type": "execute_result"
    }
   ],
   "source": [
    "sorted_dict = SortedDict(lambda value: -value, enumerate('abc', start=1))\n",
    "sorted_dict"
   ]
  },
  {
   "cell_type": "markdown",
   "id": "87b33f86",
   "metadata": {
    "pycharm": {
     "name": "#%% md\n"
    }
   },
   "source": [
    "## Default sorted dict"
   ]
  },
  {
   "cell_type": "code",
   "execution_count": 44,
   "id": "ec328651",
   "metadata": {
    "pycharm": {
     "name": "#%%\n"
    }
   },
   "outputs": [
    {
     "data": {
      "text/plain": [
       "0"
      ]
     },
     "execution_count": 44,
     "metadata": {},
     "output_type": "execute_result"
    }
   ],
   "source": [
    "class DefaultSortedDict(SortedDict):\n",
    "    def __missing__(self, key):\n",
    "        return 0\n",
    "    \n",
    "default_sorted_dict = DefaultSortedDict()\n",
    "default_sorted_dict['z']"
   ]
  },
  {
   "cell_type": "markdown",
   "id": "85be5d71",
   "metadata": {
    "pycharm": {
     "name": "#%% md\n"
    }
   },
   "source": [
    "# SortedSet\n",
    "- Sorted set uses Python’s built-in set for set-operations and maintains a sorted list of values"
   ]
  },
  {
   "cell_type": "markdown",
   "id": "3ac0a799",
   "metadata": {
    "pycharm": {
     "name": "#%% md\n"
    }
   },
   "source": [
    "## Works like python set"
   ]
  },
  {
   "cell_type": "code",
   "execution_count": 45,
   "id": "694bb293",
   "metadata": {
    "pycharm": {
     "name": "#%%\n"
    }
   },
   "outputs": [
    {
     "data": {
      "text/plain": [
       "(SortedSet(['a', 'b', 'c', 'd']), SortedSet(['c', 'd', 'e', 'f']))"
      ]
     },
     "execution_count": 45,
     "metadata": {},
     "output_type": "execute_result"
    }
   ],
   "source": [
    "abcd = SortedSet('abcd')\n",
    "cdef = SortedSet('cdef')\n",
    "abcd, cdef"
   ]
  },
  {
   "cell_type": "code",
   "execution_count": 46,
   "id": "b826c623",
   "metadata": {
    "pycharm": {
     "name": "#%%\n"
    }
   },
   "outputs": [
    {
     "data": {
      "text/plain": [
       "SortedSet(['a', 'b'])"
      ]
     },
     "execution_count": 46,
     "metadata": {},
     "output_type": "execute_result"
    }
   ],
   "source": [
    "abcd.difference(cdef)"
   ]
  },
  {
   "cell_type": "code",
   "execution_count": 47,
   "id": "38eeb8b5",
   "metadata": {
    "pycharm": {
     "name": "#%%\n"
    }
   },
   "outputs": [
    {
     "data": {
      "text/plain": [
       "SortedSet(['c', 'd'])"
      ]
     },
     "execution_count": 47,
     "metadata": {},
     "output_type": "execute_result"
    }
   ],
   "source": [
    "abcd.intersection(cdef)"
   ]
  },
  {
   "cell_type": "code",
   "execution_count": 48,
   "id": "f61040ec",
   "metadata": {
    "pycharm": {
     "name": "#%%\n"
    }
   },
   "outputs": [
    {
     "data": {
      "text/plain": [
       "SortedSet(['a', 'b', 'e', 'f'])"
      ]
     },
     "execution_count": 48,
     "metadata": {},
     "output_type": "execute_result"
    }
   ],
   "source": [
    "abcd.symmetric_difference(cdef)"
   ]
  },
  {
   "cell_type": "code",
   "execution_count": 49,
   "id": "7b018ba5",
   "metadata": {
    "pycharm": {
     "name": "#%%\n"
    }
   },
   "outputs": [
    {
     "data": {
      "text/plain": [
       "SortedSet(['a', 'b', 'c', 'd', 'e', 'f'])"
      ]
     },
     "execution_count": 49,
     "metadata": {},
     "output_type": "execute_result"
    }
   ],
   "source": [
    "abcd.union(cdef)"
   ]
  },
  {
   "cell_type": "code",
   "execution_count": 50,
   "id": "6557dec5",
   "metadata": {
    "pycharm": {
     "name": "#%%\n"
    }
   },
   "outputs": [
    {
     "data": {
      "text/plain": [
       "SortedSet(['a', 'b', 'c', 'd', 'e', 'f'])"
      ]
     },
     "execution_count": 50,
     "metadata": {},
     "output_type": "execute_result"
    }
   ],
   "source": [
    "abcd | cdef"
   ]
  },
  {
   "cell_type": "code",
   "execution_count": 51,
   "id": "56020c79",
   "metadata": {
    "pycharm": {
     "name": "#%%\n"
    }
   },
   "outputs": [],
   "source": [
    "abcd |= cdef"
   ]
  },
  {
   "cell_type": "code",
   "execution_count": 52,
   "id": "84f6759c",
   "metadata": {
    "pycharm": {
     "name": "#%%\n"
    }
   },
   "outputs": [
    {
     "data": {
      "text/plain": [
       "SortedSet(['a', 'b', 'c', 'd', 'e', 'f'])"
      ]
     },
     "execution_count": 52,
     "metadata": {},
     "output_type": "execute_result"
    }
   ],
   "source": [
    "abcd"
   ]
  },
  {
   "cell_type": "markdown",
   "id": "f298d256",
   "metadata": {
    "pycharm": {
     "name": "#%% md\n"
    }
   },
   "source": [
    "## Works like SortedList"
   ]
  },
  {
   "cell_type": "code",
   "execution_count": 53,
   "id": "64e486bb",
   "metadata": {
    "pycharm": {
     "name": "#%%\n"
    }
   },
   "outputs": [
    {
     "data": {
      "text/plain": [
       "SortedSet(['c'])"
      ]
     },
     "execution_count": 53,
     "metadata": {},
     "output_type": "execute_result"
    }
   ],
   "source": [
    "sorted_set = SortedSet()\n",
    "sorted_set.add('c') # returns None\n",
    "sorted_set.add('a') # returns None\n",
    "sorted_set.add('b') # returns None\n",
    "\n",
    "assert list(sorted_set) == ['a', 'b', 'c']\n",
    "\n",
    "# safe remove\n",
    "sorted_set.discard('a')\n",
    "# unsafe remove\n",
    "sorted_set.remove('b')\n",
    "\n",
    "try:\n",
    "    sorted_set.remove('z')\n",
    "except Exception as e:\n",
    "    assert type(e) == KeyError\n",
    "    \n",
    "sorted_set"
   ]
  },
  {
   "cell_type": "code",
   "execution_count": 54,
   "id": "8392de21",
   "metadata": {
    "pycharm": {
     "name": "#%%\n"
    }
   },
   "outputs": [
    {
     "data": {
      "text/plain": [
       "(SortedSet(['c', 'd', 'e', 'f']), SortedSet(['c', 'd', 'e', 'f']))"
      ]
     },
     "execution_count": 54,
     "metadata": {},
     "output_type": "execute_result"
    }
   ],
   "source": [
    "sorted_set.update('def'), sorted_set # NOTE: returns sorted set! This behavior is different from SortedList here"
   ]
  }
 ],
 "metadata": {
  "kernelspec": {
   "display_name": "local_python310",
   "language": "python",
   "name": "local_python310"
  },
  "language_info": {
   "codemirror_mode": {
    "name": "ipython",
    "version": 3
   },
   "file_extension": ".py",
   "mimetype": "text/x-python",
   "name": "python",
   "nbconvert_exporter": "python",
   "pygments_lexer": "ipython3",
   "version": "3.10.6"
  }
 },
 "nbformat": 4,
 "nbformat_minor": 5
}
